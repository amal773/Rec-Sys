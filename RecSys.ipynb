{
  "nbformat": 4,
  "nbformat_minor": 0,
  "metadata": {
    "colab": {
      "provenance": []
    },
    "kernelspec": {
      "name": "python3",
      "display_name": "Python 3"
    },
    "language_info": {
      "name": "python"
    }
  },
  "cells": [
    {
      "cell_type": "markdown",
      "source": [
        "# 1. Install the packages"
      ],
      "metadata": {
        "id": "-LVBeuq5_5m4"
      }
    },
    {
      "cell_type": "code",
      "execution_count": null,
      "metadata": {
        "id": "WAapC7-8nCkV"
      },
      "outputs": [],
      "source": [
        "! pip install numpy\n",
        "! pip install scikit-surprise"
      ]
    },
    {
      "cell_type": "markdown",
      "source": [
        "# 2. Import the libraries"
      ],
      "metadata": {
        "id": "pkH4ViM8AHan"
      }
    },
    {
      "cell_type": "code",
      "source": [
        "import os\n",
        "import sys\n",
        "from surprise import Dataset\n",
        "from surprise import Reader\n",
        "from surprise import KNNBasic\n",
        "import heapq\n",
        "from collections import defaultdict\n",
        "from operator import itemgetter\n",
        "from surprise.model_selection import LeaveOneOut"
      ],
      "metadata": {
        "id": "OBTLx8-InYI1"
      },
      "execution_count": 2,
      "outputs": []
    },
    {
      "cell_type": "markdown",
      "source": [
        "# 3. Load the dataset"
      ],
      "metadata": {
        "id": "eDGNHrjXAT5_"
      }
    },
    {
      "cell_type": "code",
      "source": [
        "ratingsPath = '../data/ratings.csv'\n",
        "\n",
        "# Look for files relative to the directory we are running from\n",
        "\n",
        "os.chdir(os.path.dirname(sys.argv[0]))\n",
        "data = 0\n",
        "reader = Reader(line_format='user item rating timestamp',\n",
        "                sep=',', skip_lines=1)\n",
        "data = Dataset.load_from_file(ratingsPath, reader=reader)\n",
        "print(\"Dataset Loaded\")\n"
      ],
      "metadata": {
        "colab": {
          "base_uri": "https://localhost:8080/"
        },
        "id": "OBnXdjFSns9C",
        "outputId": "48e6d936-09a9-486c-c759-a92741080f67"
      },
      "execution_count": 3,
      "outputs": [
        {
          "output_type": "stream",
          "name": "stdout",
          "text": [
            "Loading the movies...\n"
          ]
        }
      ]
    },
    {
      "cell_type": "markdown",
      "source": [
        "# 4. Build a \"leave one out\" train/test split for evaluating the top-N recommender"
      ],
      "metadata": {
        "id": "EaFP0mZjOVPA"
      }
    },
    {
      "cell_type": "code",
      "source": [
        "LOOCV = LeaveOneOut(n_splits=1, random_state=1)\n",
        "for train, test in LOOCV.split(data):\n",
        "    LOOCVTrain = train\n",
        "    LOOCVTest = test"
      ],
      "metadata": {
        "id": "WgQppt6vONov"
      },
      "execution_count": 4,
      "outputs": []
    },
    {
      "cell_type": "markdown",
      "source": [
        "# 5. Train on Leave-One-Out train set"
      ],
      "metadata": {
        "id": "aPfnWjfvOfSF"
      }
    },
    {
      "cell_type": "code",
      "source": [
        "trainSet = LOOCVTrain\n",
        "sim_options = {'name': 'cosine',\n",
        "               'user_based': True\n",
        "               }\n",
        "\n",
        "model = KNNBasic(sim_options=sim_options)\n",
        "model.fit(trainSet)\n",
        "simsMatrix = model.compute_similarities()\n",
        "\n",
        "leftOutTestSet = LOOCVTest"
      ],
      "metadata": {
        "colab": {
          "base_uri": "https://localhost:8080/"
        },
        "id": "a9W-QggdOe7H",
        "outputId": "ccaaa2d4-6766-4a5a-de1a-c3165dff54d3"
      },
      "execution_count": 5,
      "outputs": [
        {
          "output_type": "stream",
          "name": "stdout",
          "text": [
            "Computing the cosine similarity matrix...\n",
            "Done computing similarity matrix.\n",
            "Computing the cosine similarity matrix...\n",
            "Done computing similarity matrix.\n"
          ]
        }
      ]
    },
    {
      "cell_type": "markdown",
      "source": [
        "# 6. Build up dictionary to lists of (int(movieID), predictedrating) pairs"
      ],
      "metadata": {
        "id": "tbOQsr5sOrjo"
      }
    },
    {
      "cell_type": "code",
      "source": [
        "topN = defaultdict(list)\n",
        "k = 10\n",
        "for uiid in range(trainSet.n_users):\n",
        "    # Get top N similar users to this one\n",
        "    similarityRow = simsMatrix[uiid]\n",
        "\n",
        "    similarUsers = []\n",
        "    for innerID, score in enumerate(similarityRow):\n",
        "        if (innerID != uiid):\n",
        "            similarUsers.append((innerID, score))\n",
        "\n",
        "    kNeighbors = heapq.nlargest(k, similarUsers, key=lambda t: t[1])\n",
        "\n",
        "    # Get the stuff they rated, and add up ratings for each item, weighted by user similarity\n",
        "    candidates = defaultdict(float)\n",
        "    for similarUser in kNeighbors:\n",
        "        innerID = similarUser[0]\n",
        "        userSimilarityScore = similarUser[1]\n",
        "        theirRatings = trainSet.ur[innerID]\n",
        "        for rating in theirRatings:\n",
        "            candidates[rating[0]] += (rating[1] / 5.0) * userSimilarityScore\n",
        "\n",
        "    # Build a dictionary of stuff the user has already seen\n",
        "    watched = {}\n",
        "    for itemID, rating in trainSet.ur[uiid]:\n",
        "        watched[itemID] = 1\n",
        "\n",
        "    # Get top-rated items from similar users:\n",
        "    pos = 0\n",
        "    for itemID, ratingSum in sorted(candidates.items(), key=itemgetter(1), reverse=True):\n",
        "        if not itemID in watched:\n",
        "            movieID = trainSet.to_raw_iid(itemID)\n",
        "            topN[int(trainSet.to_raw_uid(uiid))].append((int(movieID), 0.0))\n",
        "            pos += 1\n",
        "            if (pos > 40):\n",
        "                break\n"
      ],
      "metadata": {
        "id": "yjYJNAM2OsKU"
      },
      "execution_count": 6,
      "outputs": []
    },
    {
      "cell_type": "markdown",
      "source": [
        "# 7. Evaluation of the model using \"hit Rate\" metric\n",
        "\n",
        "\n"
      ],
      "metadata": {
        "id": "nE4mWVuWQN8i"
      }
    },
    {
      "cell_type": "code",
      "source": [
        "hits = 0\n",
        "total = 0\n",
        "\n",
        "# For each left-out rating\n",
        "for leftOut in leftOutTestSet:\n",
        "    userID = leftOut[0]\n",
        "    leftOutMovieID = leftOut[1]\n",
        "    # Is it in the predicted top 10 for this user?\n",
        "    hit = False\n",
        "    for movieID, predictedRating in topN[int(userID)]:\n",
        "        if (int(leftOutMovieID) == int(movieID)):\n",
        "            hit = True\n",
        "            break\n",
        "    if (hit):\n",
        "        hits += 1\n",
        "\n",
        "    total += 1\n",
        "\n",
        "# Compute overall precision\n",
        "HR = hits/total\n",
        "\n",
        "print(\"Hit Rate is : \", HR)"
      ],
      "metadata": {
        "colab": {
          "base_uri": "https://localhost:8080/"
        },
        "id": "H6mPgZmMQNXe",
        "outputId": "11739e6c-8621-419e-c64a-ca771949cfc6"
      },
      "execution_count": 8,
      "outputs": [
        {
          "output_type": "stream",
          "name": "stdout",
          "text": [
            "Hit Rate is :  0.05514157973174367\n"
          ]
        }
      ]
    }
  ]
}